{
 "cells": [
  {
   "cell_type": "code",
   "execution_count": 1,
   "id": "7fa01294",
   "metadata": {},
   "outputs": [],
   "source": [
    "import matplotlib.pyplot as plt \n",
    "import numpy as np\n",
    "from tqdm.notebook import tqdm"
   ]
  },
  {
   "cell_type": "code",
   "execution_count": 2,
   "id": "2d4fa719-2054-41b3-a735-b713c3b0a044",
   "metadata": {
    "tags": []
   },
   "outputs": [],
   "source": [
    "import matplotlib as mpl\n",
    "\n",
    "colourscheme = [\n",
    "    (41, 78, 114),\n",
    "    (166, 197, 234),\n",
    "    (255, 165, 0),\n",
    "    (243, 214, 176),\n",
    "    (1, 105, 53),\n",
    "    (192, 191, 135),\n",
    "    (115, 59, 64),\n",
    "    (216, 191, 216),\n",
    "    (28, 29, 36),\n",
    "    (203, 202, 208),\n",
    "    (107, 107, 107),\n",
    "    (246, 247, 246)\n",
    "]\n",
    "  \n",
    "# Rescale to values between 0 and 1 \n",
    "for i in range(len(colourscheme)):  \n",
    "    r, g, b = colourscheme[i]  \n",
    "    colourscheme[i] = (r / 255., g / 255., b / 255.)\n",
    "    \n",
    "new_rc_params = {\n",
    "    'text.usetex': True,\n",
    "    'svg.fonttype': 'none',\n",
    "    'font.family': 'Linux Libertine',\n",
    "    'text.latex.preamble': r'\\usepackage{libertine}\\usepackage{amsmath}',\n",
    "    'mathtext.fontset': 'custom',\n",
    "    'mathtext.rm': 'libertine',\n",
    "    'mathtext.it': 'libertine:italic',\n",
    "    'mathtext.bf': 'libertine:bold'\n",
    "}\n",
    "mpl.rcParams.update(new_rc_params)\n",
    "plt.rc('axes', axisbelow=True)"
   ]
  },
  {
   "cell_type": "code",
   "execution_count": 3,
   "id": "62e8e1dd-dba9-450c-8707-ba263e363c34",
   "metadata": {
    "tags": []
   },
   "outputs": [],
   "source": [
    "markers = ['x', 'o', 'd']"
   ]
  },
  {
   "cell_type": "code",
   "execution_count": 4,
   "id": "36d61cc4-b0fb-4ad1-a3f2-9fa8c84441dc",
   "metadata": {
    "tags": []
   },
   "outputs": [],
   "source": [
    "def diff_in_Qs_estimator_single_trajectory(a, r, propensities, control_variant, treatment_variant):\n",
    "    Qs = np.cumsum(r[::-1])[::-1] \n",
    "    return np.sum(Qs * (a == treatment_variant) / propensities[treatment_variant] - Qs * (a == control_variant) / propensities[control_variant])\n",
    "    \n",
    "def diff_in_Qs_estimator(a, r, propensities, control_variant, treatment_variant):\n",
    "    values = np.asarray([diff_in_Qs_estimator_single_trajectory(a_i, r_i, propensities, control_variant, treatment_variant) for a_i, r_i in zip(a,r)])\n",
    "    return np.mean(values)\n",
    "\n",
    "def diff_in_naive_estimator(a, r, propensities, control_variant, treatment_variant):\n",
    "    return np.sum((np.concatenate(a) == treatment_variant) * np.concatenate(r) / propensities[treatment_variant] \\\n",
    "                - (np.concatenate(a) == control_variant) * np.concatenate(r) / propensities[control_variant]) / len(a)\n",
    "\n",
    "def diff_in_geom_estimator(a, r, propensities, control_variant, treatment_variant):\n",
    "    control_values = (np.concatenate(a) == control_variant) * np.concatenate(r) / propensities[control_variant]\n",
    "    treatment_values = (np.concatenate(a) == treatment_variant) * np.concatenate(r) / propensities[treatment_variant]\n",
    "    \n",
    "    return 1.0 / (1.0 - np.mean(treatment_values)) - 1.0 / (1.0 -  np.mean(control_values))\n",
    "    \n",
    "\n",
    "def monte_carlo_estimator(r):\n",
    "    values = np.asarray([np.sum(r_i) for r_i in r])\n",
    "    return np.mean(values), np.std(values)\n",
    "\n",
    "def diff_monte_carlo_estimator(r0, r1):\n",
    "    mu0, std0 = monte_carlo_estimator(r0)\n",
    "    mu1, std1 = monte_carlo_estimator(r1)\n",
    "\n",
    "    # Make the assumption that covariance is 0 (which it should be)\n",
    "    return mu1 - mu0, np.sqrt(std0**2 + std1**2)"
   ]
  },
  {
   "cell_type": "markdown",
   "id": "b1e7a681",
   "metadata": {},
   "source": [
    "## Higher-order-DAU Example"
   ]
  },
  {
   "cell_type": "code",
   "execution_count": 5,
   "id": "9a6fdf65-a38a-4577-b870-f0e2e8a4eb37",
   "metadata": {
    "tags": []
   },
   "outputs": [],
   "source": [
    "propensities = np.asarray([0.5, 0.25, 0.25])\n",
    "expected_R = np.asarray([0.1, 0.2, 0.3])"
   ]
  },
  {
   "cell_type": "code",
   "execution_count": 6,
   "id": "2a2865b9",
   "metadata": {},
   "outputs": [],
   "source": [
    "def generate_data(N, propensities, expected_R):\n",
    "    # Synthetic higher-order-DAU example\n",
    "    actions = []\n",
    "    rewards = []\n",
    "    \n",
    "    # For N trajectories\n",
    "    for _ in range(N):\n",
    "\n",
    "        actions_this = []\n",
    "        rewards_this = []\n",
    "\n",
    "        while True:\n",
    "            \n",
    "            # Sample action: is this user in C or T?            \n",
    "            variant = rng.choice(len(propensities), p=propensities)\n",
    "            \n",
    "            # Sample reward (indicating whether a user shares)\n",
    "            # Just assume that the probability of bringing in 2nd order DAU is higher under the treatment\n",
    "            \n",
    "            r = rng.random() < expected_R[variant]\n",
    " \n",
    "            # Add to sequence for this trajectory\n",
    "            actions_this.append(variant)\n",
    "            rewards_this.append(r)\n",
    "\n",
    "            if not r:\n",
    "                break\n",
    "                        \n",
    "        # Add to all trajectories\n",
    "        actions.append(np.asarray(actions_this))\n",
    "        rewards.append(np.asarray(rewards_this))\n",
    "\n",
    "    return actions, rewards"
   ]
  },
  {
   "cell_type": "code",
   "execution_count": 7,
   "id": "6dca7135-ef8c-4421-9840-6bee7496cdc9",
   "metadata": {
    "tags": []
   },
   "outputs": [],
   "source": [
    "expected_higherorder_sessions = lambda gamma: 1.0 / (1.0 - gamma) - 1.0\n",
    "expected_secondorder_sessions = lambda gamma: gamma\n",
    "\n",
    "expected_higherorder_increase = lambda gamma: gamma**2 / (1.0 - gamma)"
   ]
  },
  {
   "cell_type": "code",
   "execution_count": 8,
   "id": "7b802dea-9a97-404c-9047-e5490666c111",
   "metadata": {
    "tags": []
   },
   "outputs": [
    {
     "data": {
      "image/png": "[encoded data removed]",
      "text/plain": [
       "<Figure size 600x300 with 1 Axes>"
      ]
     },
     "metadata": {},
     "output_type": "display_data"
    }
   ],
   "source": [
    "fontsize=18\n",
    "fig, ax = plt.subplots(figsize=(6, 3))\n",
    "\n",
    "max_gamma = 0.5\n",
    "gammas = np.linspace(0.0, max_gamma, 100)\n",
    "\n",
    "plt.title('Underestimated Higher-Order Effects', fontsize=fontsize)\n",
    "\n",
    "plt.plot(gammas ,expected_higherorder_increase(gammas), color=colourscheme[2], label=r'$\\frac{\\gamma^{2}}{1-\\gamma}$')\n",
    "plt.fill_between(gammas, 0.0, expected_higherorder_increase(gammas), color=colourscheme[3], alpha=.5, label='Bias')\n",
    "\n",
    "\n",
    "plt.xlabel(r'Probability of successful share: $\\gamma$', fontsize=fontsize-4)\n",
    "plt.ylabel(r'Higher-Order $-$ Second-Order', fontsize=fontsize-4)\n",
    "\n",
    "plt.xlim(0.0, max_gamma)\n",
    "\n",
    "\n",
    "ax.xaxis.set_tick_params(labelsize=fontsize-4)            \n",
    "ax.yaxis.set_tick_params(labelsize=fontsize-4)\n",
    "\n",
    "plt.legend(fontsize=fontsize-2)\n",
    "\n",
    "plt.savefig('HO_effects.pdf', bbox_inches='tight')\n",
    "plt.show()"
   ]
  },
  {
   "cell_type": "code",
   "execution_count": null,
   "id": "ea8d1f44-2e46-4486-a746-b567a5b9e7ca",
   "metadata": {
    "tags": []
   },
   "outputs": [
    {
     "data": {
      "application/vnd.jupyter.widget-view+json": {
       "model_id": "3005bf8901d740988bb9f2f130e0d42d",
       "version_major": 2,
       "version_minor": 0
      },
      "text/plain": [
       "  0%|          | 0/8 [00:00<?, ?it/s]"
      ]
     },
     "metadata": {},
     "output_type": "display_data"
    },
    {
     "data": {
      "application/vnd.jupyter.widget-view+json": {
       "model_id": "b06776fd7ccc4999a04234c0a5d9d80f",
       "version_major": 2,
       "version_minor": 0
      },
      "text/plain": [
       "  0%|          | 0/8 [00:00<?, ?it/s]"
      ]
     },
     "metadata": {},
     "output_type": "display_data"
    },
    {
     "data": {
      "application/vnd.jupyter.widget-view+json": {
       "model_id": "4f4b5241093142d899fcf25865914eea",
       "version_major": 2,
       "version_minor": 0
      },
      "text/plain": [
       "  0%|          | 0/8 [00:00<?, ?it/s]"
      ]
     },
     "metadata": {},
     "output_type": "display_data"
    }
   ],
   "source": [
    "# X-axis: sample size\n",
    "# Y-axis: MSE of treatment effect\n",
    "# 3 columns: 0-1, 0-2, 1-2\n",
    "\n",
    "rng = np.random.default_rng(42)\n",
    "\n",
    "# Ns = np.logspace(1,6,12, dtype=np.int64)\n",
    "Ns = np.logspace(2,6,12, dtype=np.int64)\n",
    "\n",
    "Ns = np.logspace(2,6,8, dtype=np.int64)\n",
    "n_iter = 32\n",
    "\n",
    "# Ns = np.logspace(2,4,5, dtype=np.int64)\n",
    "# n_iter = 5\n",
    "\n",
    "fontsize=18\n",
    "fig, axes = plt.subplots(1, 3, sharey='row', figsize=(14, 3))\n",
    "\n",
    "for ax, (control_variant, treatment_variant) in zip(axes, [(0,1), (0,2), (1,2)]):\n",
    "    \n",
    "    # Ground truth\n",
    "    ATE = expected_higherorder_sessions(expected_R[treatment_variant]) - expected_higherorder_sessions(expected_R[control_variant])\n",
    "    \n",
    "    N_MSE = []\n",
    "    DQ_MSE = []\n",
    "    DG_MSE = []\n",
    "\n",
    "    N_SE_stderr = []\n",
    "    DQ_SE_stderr = []\n",
    "    DG_SE_stderr = []\n",
    "    \n",
    "    # For every data size\n",
    "    for N in tqdm(Ns):\n",
    "        \n",
    "        N_err = []\n",
    "        DQ_err = []\n",
    "        DG_err = []\n",
    "        \n",
    "        for _ in range(n_iter):\n",
    "            A, R = generate_data(N, propensities, expected_R)\n",
    "\n",
    "            naive_mu = diff_in_naive_estimator(A, R, propensities, control_variant, treatment_variant)    \n",
    "            N_err.append((naive_mu - ATE)**2)\n",
    "\n",
    "            DQ_mu = diff_in_Qs_estimator(A, R, propensities, control_variant, treatment_variant)  \n",
    "            DQ_err.append((DQ_mu - ATE)**2)\n",
    "\n",
    "            DG_mu = diff_in_geom_estimator(A, R, propensities, control_variant, treatment_variant)  \n",
    "            DG_err.append((DG_mu - ATE)**2)\n",
    "            \n",
    "            \n",
    "        N_MSE.append(np.mean(N_err))\n",
    "        DQ_MSE.append(np.mean(DQ_err))       \n",
    "        DG_MSE.append(np.mean(DG_err))        \n",
    "\n",
    "        N_SE_stderr.append(np.std(N_err) / np.sqrt(n_iter))\n",
    "        DQ_SE_stderr.append(np.std(DQ_err) / np.sqrt(n_iter))       \n",
    "        DG_SE_stderr.append(np.std(DG_err) / np.sqrt(n_iter))        \n",
    "\n",
    "    N_MSE, N_SE_stderr = np.asarray(N_MSE), np.asarray(N_SE_stderr)\n",
    "    DQ_MSE, DQ_SE_stderr = np.asarray(DQ_MSE), np.asarray(DQ_SE_stderr)\n",
    "    DG_MSE, DG_SE_stderr = np.asarray(DG_MSE), np.asarray(DG_SE_stderr)\n",
    "    \n",
    "    ax.set_title(r'$\\widehat{V}_{\\Delta}(a_{'+f'{treatment_variant}'+'},a_{'+f'{control_variant}'+'})$', fontsize=fontsize)\n",
    "    ax.plot(Ns, N_MSE, label=r'Na\\\"ive', color=colourscheme[6], marker=markers[0])    \n",
    "    ax.fill_between(Ns, N_MSE-1.96*N_SE_stderr,  N_MSE+1.96*N_SE_stderr, alpha=.25, color=colourscheme[6])\n",
    "    \n",
    "    ax.plot(Ns, DQ_MSE, label='Differences-in-Qs', color=colourscheme[2], marker=markers[1])    \n",
    "    ax.fill_between(Ns, DQ_MSE-1.96*DQ_SE_stderr,  DQ_MSE+1.96*DQ_SE_stderr, alpha=.25, color=colourscheme[2])\n",
    "\n",
    "    ax.plot(Ns, DG_MSE, label='Differences-in-Geometrics', color=colourscheme[4], marker=markers[2])        \n",
    "    ax.fill_between(Ns, DG_MSE-1.96*DG_SE_stderr,  DG_MSE+1.96*DG_SE_stderr, alpha=.25, color=colourscheme[4])\n",
    "\n",
    "    if ax == axes[0]:\n",
    "        ax.set_ylabel('MSE on ATE', fontsize=fontsize-2)\n",
    "        ax.set_yscale('log')\n",
    "    \n",
    "    ax.set_xlabel('Sample size', fontsize=fontsize-2)\n",
    "    \n",
    "    ax.set_xscale('log')\n",
    "\n",
    "    \n",
    "    ax.xaxis.set_tick_params(labelsize=fontsize-4)            \n",
    "    ax.yaxis.set_tick_params(labelsize=fontsize-4)\n",
    "    \n",
    "    ax.grid(True, 'major', 'y', ls='--', lw=.5, c='k', alpha=.3)\n",
    "    \n",
    "    ax.set_ylim(6e-7, 15e-2)\n",
    "\n",
    "fig.tight_layout()\n",
    "\n",
    "\n",
    "plt.legend(fontsize=fontsize-2, bbox_to_anchor = (0.3, -0.24), ncols=3)\n",
    "\n",
    "plt.savefig('CONSEQUENCES24_Fig1.pdf', bbox_inches='tight')\n",
    "plt.show()"
   ]
  }
 ],
 "metadata": {
  "environment": {
   "kernel": "conda-root-py",
   "name": "workbench-notebooks.m113",
   "type": "gcloud",
   "uri": "gcr.io/deeplearning-platform-release/workbench-notebooks:m113"
  },
  "kernelspec": {
   "display_name": "Python 3 (ipykernel) (Local)",
   "language": "python",
   "name": "conda-root-py"
  },
  "language_info": {
   "codemirror_mode": {
    "name": "ipython",
    "version": 3
   },
   "file_extension": ".py",
   "mimetype": "text/x-python",
   "name": "python",
   "nbconvert_exporter": "python",
   "pygments_lexer": "ipython3",
   "version": "3.10.13"
  }
 },
 "nbformat": 4,
 "nbformat_minor": 5
}
